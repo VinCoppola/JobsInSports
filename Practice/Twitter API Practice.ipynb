{
 "cells": [
  {
   "cell_type": "code",
   "execution_count": 6,
   "id": "04f7e447",
   "metadata": {},
   "outputs": [],
   "source": [
    "# API KEY: FB7QAHPem56r0Mv83RKuPJR4Y\n",
    "# API KEY SECRET: r7j3GMhjRIXtXjkNnlypjqQW60jDTkojPBPcieQlahdTHr3Q9h\n",
    "# BEARER TOKEN: AAAAAAAAAAAAAAAAAAAAAMuRiQEAAAAASfWfjQlkVEO7bLR%2B2LI%2FS8s42Eo%3D4dXlyGNYxVfKk2QD1kW4C3GmDZgSZuuFbF8XYbBaC3Aqi6AZSJ\n",
    "# Client ID: UkxpeUtFN0pDanNWRS1tSk9ZTXY6MTpjaQ\n",
    "# Client Secret: wTSnz2QkfIittU70Vw0rhKFm6FTjkTbeMTHzZXUUwHK4rcd7S_\n",
    "import pandas as pd\n",
    "import numpy as np\n",
    "import csv\n",
    "import os\n",
    "#!pip install wget\n",
    "import wget\n",
    "#!pip install -- tweepy\n",
    "import tweepy"
   ]
  },
  {
   "cell_type": "code",
   "execution_count": 7,
   "id": "1a552f90",
   "metadata": {},
   "outputs": [],
   "source": [
    "# Installation / Access to Twitter Account\n",
    "consumer_key = 'FB7QAHPem56r0Mv83RKuPJR4Y'\n",
    "consumer_secret = 'r7j3GMhjRIXtXjkNnlypjqQW60jDTkojPBPcieQlahdTHr3Q9h'\n",
    "access_token = '1583139235342811138-CNcRKakrtwYsJdRhjNvUqXsrE6mha8'\n",
    "access_token_secret = '1kpR1zSr9wlE1wk8MexeytDHlTzUgBM31qzNsSmF4mzlX'\n",
    "\n",
    "auth = tweepy.OAuthHandler(consumer_key, consumer_secret)\n",
    "auth.set_access_token(access_token, access_token_secret)\n",
    "api = tweepy.API(auth, wait_on_rate_limit = True)"
   ]
  },
  {
   "cell_type": "code",
   "execution_count": 2,
   "id": "eec31e37",
   "metadata": {},
   "outputs": [],
   "source": [
    "def profile_image(filename):\n",
    "    api.update_profile_image(filename)\n",
    "\n",
    "profile_image('C:/Users/BigV24/Desktop/DAMG 6210/Jobs in Sports/profile picture.jpg')\n",
    "\n",
    "# Above Works, Below Doesn't\n",
    "def update_profile_info(name,location,description):\n",
    "    api.update_profile(name = name,location = location,description = description)\n",
    "\n",
    "update_profile_info(name = 'Jobs In Sports',\n",
    "                   location = 'Boston MA',\n",
    "                   description = 'Learning to work with Twitter API and Hoping to find Jobs in Sports!!')"
   ]
  },
  {
   "cell_type": "code",
   "execution_count": 30,
   "id": "88cc0dbf",
   "metadata": {},
   "outputs": [],
   "source": [
    "def post_tweet(text):\n",
    "    api.update_status(text)\n",
    "    \n",
    "def tweet_media(text, filename):\n",
    "    media = api.media_upload(filename)\n",
    "    api.update_status(text, media_ids = [media.media_id_string])\n",
    "\n",
    "def favortie(tweet_id):\n",
    "    api.create_favorite(str(tweet_id))\n",
    "    \n",
    "def unfavortie(tweet_id):\n",
    "    api.destroy_favorite(str(tweet_id))\n",
    "\n",
    "def retweet(tweet_id):\n",
    "    api.retweet(str(tweet_id))\n",
    "    \n",
    "def unretweet(tweet_id):\n",
    "    api.unretweet(str(tweet_id))\n",
    "    \n",
    "def reply(tweet_id,message):\n",
    "    tweet = api.get_status(str(tweet_id))\n",
    "    username = tweet.user.screen_name\n",
    "    reply = api.update_status(status = f\"@{username} \" + message, in_reply_to_status_id = str(tweet_id))\n",
    "\n",
    "reply('1583196349738033152',message = \"Viking and Giants Top 5, love it!\")\n",
    "    "
   ]
  },
  {
   "cell_type": "code",
   "execution_count": null,
   "id": "0ff4cfc4",
   "metadata": {},
   "outputs": [],
   "source": [
    "def user_timeline(username):\n",
    "    ot = []\n",
    "    replies = []\n",
    "    rts = []    \n",
    "    for tweet in tweepy.Cursor(api.user_timeline,sceren_name = username,\n",
    "                              tweet_mode = 'extended').items(2):\n",
    "        if tweet.full_text.startswith('@'):\n",
    "            replies.append(tweet)\n",
    "        elif tweet.full_text.startswith('RT @'):\n",
    "            rts.append(tweet)\n",
    "        else:\n",
    "            ot.append(tweet)        \n",
    "        ## To specify a specific piece of info you can add .'info' eg. tweet.full_text\n",
    "        \n",
    "        ## How to search for a keyword\n",
    "        tw_counter = 0\n",
    "        kw_counter = 0\n",
    "        keyword_tweets = []\n",
    "        \n",
    "        if 'tesla' in tweet.full_text.lower():\n",
    "            kw_counter += 1\n",
    "            tw_coutner += 1\n",
    "            keyword_tweets.append(tweet.full_text)\n",
    "        else:\n",
    "            tw_counter += 1\n",
    "        \n",
    "    print(tw_counter)\n",
    "    print(kw_counter)\n",
    "    return(keyword_tweets)\n",
    "    \n",
    "    \n",
    "    return(timeline)"
   ]
  },
  {
   "cell_type": "code",
   "execution_count": null,
   "id": "f72ff5ed",
   "metadata": {},
   "outputs": [],
   "source": [
    "def search_tweets(keywords):\n",
    "    for tweet in tweepy.Cursor(api.search,query = keywords,\n",
    "                              tweet_mode = 'extended').items(2):\n",
    "        if tweet.full_text.startswith('RT @'):\n",
    "            text = tweet.retweeted_status.full_text\n",
    "            print('RT @' + text)\n",
    "        else:\n",
    "            print(tweet.full_text)"
   ]
  }
 ],
 "metadata": {
  "kernelspec": {
   "display_name": "Python 3 (ipykernel)",
   "language": "python",
   "name": "python3"
  },
  "language_info": {
   "codemirror_mode": {
    "name": "ipython",
    "version": 3
   },
   "file_extension": ".py",
   "mimetype": "text/x-python",
   "name": "python",
   "nbconvert_exporter": "python",
   "pygments_lexer": "ipython3",
   "version": "3.9.7"
  }
 },
 "nbformat": 4,
 "nbformat_minor": 5
}
